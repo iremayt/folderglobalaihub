{
 "cells": [
  {
   "cell_type": "markdown",
   "metadata": {},
   "source": [
    "# USER LOGIN APPLICATION"
   ]
  },
  {
   "cell_type": "code",
   "execution_count": 7,
   "metadata": {},
   "outputs": [],
   "source": [
    "#Answer1 - without dictionary:\n",
    "#define a default user name and password\n",
    "defaultUserName=\"ali\"\n",
    "defaultPassword=\"123\""
   ]
  },
  {
   "cell_type": "code",
   "execution_count": 8,
   "metadata": {},
   "outputs": [
    {
     "name": "stdout",
     "output_type": "stream",
     "text": [
      "Please enter a user name:  adf\n",
      "Please enter a password:  ad\n",
      "\n",
      " User Name and Password are wrong!!\n"
     ]
    }
   ],
   "source": [
    "#check the user name and password\n",
    "def userLogin(userName, password):\n",
    "    if userName == defaultUserName and password == defaultPassword:\n",
    "        print(\"\\n Login Successful\")\n",
    "    elif userName != defaultUserName and password == defaultPassword:\n",
    "        print(\"\\n User Name is wrong!\")\n",
    "    elif userName == defaultUserName and password != defaultPassword:\n",
    "        print(\"\\n Password is wrong!\")\n",
    "    else:\n",
    "        print(\"\\n User Name and Password are wrong!!\")\n",
    "\n",
    "#get username and password\n",
    "inputUserName = str(input(\"Please enter a user name:  \"))\n",
    "inputPassword = str(input(\"Please enter a password:  \"))\n",
    "userLogin(inputUserName, inputPassword)"
   ]
  },
  {
   "cell_type": "code",
   "execution_count": 5,
   "metadata": {},
   "outputs": [],
   "source": [
    "#Answer2 - with dictionary:\n",
    "#define a default user name and password\n",
    "loginDict = {\"CAN\": \"456\"}"
   ]
  },
  {
   "cell_type": "code",
   "execution_count": 6,
   "metadata": {},
   "outputs": [
    {
     "name": "stdout",
     "output_type": "stream",
     "text": [
      "Please enter a user name:  can\n",
      "Please enter a password:  45\n",
      "\n",
      " Password is wrong!\n"
     ]
    }
   ],
   "source": [
    "#check the user name and password\n",
    "def userLogin2(userName2, password2):\n",
    "    if userName2 in loginDict.keys() and password2 in loginDict.values():\n",
    "        print(\"\\n Login Successful\")\n",
    "    elif not userName2 in loginDict.keys() and password2 in loginDict.values():\n",
    "        print(\"\\n User Name is wrong!\")\n",
    "    elif userName2 in loginDict.keys() and not password2 in loginDict.values():\n",
    "        print(\"\\n Password is wrong!\")\n",
    "    else:\n",
    "        print(\"\\n User Name and Password are wrong!!\")\n",
    "\n",
    "#get username and password\n",
    "inputUserName2 = str(input(\"Please enter a user name:  \")).upper()\n",
    "inputPassword2 = str(input(\"Please enter a password:  \"))\n",
    "userLogin2(inputUserName2, inputPassword2)"
   ]
  },
  {
   "cell_type": "code",
   "execution_count": 1,
   "metadata": {},
   "outputs": [],
   "source": [
    "#Answer3 - Check the user and ask for registration:\n",
    "#define an empty dictionary\n",
    "loginDict3 = dict()"
   ]
  },
  {
   "cell_type": "code",
   "execution_count": 2,
   "metadata": {},
   "outputs": [],
   "source": [
    "#check the user name and password\n",
    "def checkUser(userName3, password3):\n",
    "    if userName3 in loginDict3.keys():\n",
    "        if loginDict3[userName3] == password3:\n",
    "            print(\"\\n Login is successful\")\n",
    "        else:\n",
    "            print(\"\\n Password is wrong!\")\n",
    "            \n",
    "    #if there is no record, ask for registration   \n",
    "    else:\n",
    "        registrationAnswer = str(input(\"No record!...Do you want to register? Select Y or N :\")).upper()\n",
    "        if registrationAnswer == \"Y\":\n",
    "            loginDict3[userName3] = password3\n",
    "            print(\"\\n Registration is successful...Enter username and password for login :\")\n",
    "        elif registrationAnswer == \"N\":\n",
    "            print(\"\\n Registration is unsuccessful...Enter username and password for registration :\")\n",
    "        else:\n",
    "            print(\"\\n Error: Please select Y or N :\")\n",
    "    return loginDict3"
   ]
  },
  {
   "cell_type": "code",
   "execution_count": null,
   "metadata": {},
   "outputs": [
    {
     "name": "stdout",
     "output_type": "stream",
     "text": [
      "Please enter a user name:  tek\n",
      "Please enter a password:  123\n",
      "No record!...Do you want to register? Select Y or N :y\n",
      "\n",
      " Registration is successful...Enter username and password for login :\n",
      "Please enter a user name:  tek\n",
      "Please enter a password:  123\n",
      "\n",
      " Login is successful\n"
     ]
    }
   ],
   "source": [
    "while True:\n",
    "    try:\n",
    "        inputUserName3 = str(input(\"Please enter a user name:  \")).upper()\n",
    "        inputPassword3 = str(input(\"Please enter a password:  \"))\n",
    "        checkUser(inputUserName3, inputPassword3)\n",
    "        \n",
    "    except:\n",
    "        print(\"\\n Something went wrong...Try again!!\")\n",
    "        continue\n"
   ]
  },
  {
   "cell_type": "code",
   "execution_count": null,
   "metadata": {},
   "outputs": [],
   "source": []
  }
 ],
 "metadata": {
  "kernelspec": {
   "display_name": "Python 3",
   "language": "python",
   "name": "python3"
  },
  "language_info": {
   "codemirror_mode": {
    "name": "ipython",
    "version": 3
   },
   "file_extension": ".py",
   "mimetype": "text/x-python",
   "name": "python",
   "nbconvert_exporter": "python",
   "pygments_lexer": "ipython3",
   "version": "3.8.5"
  }
 },
 "nbformat": 4,
 "nbformat_minor": 4
}
