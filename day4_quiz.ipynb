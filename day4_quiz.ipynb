{
 "cells": [
  {
   "cell_type": "code",
   "execution_count": 15,
   "metadata": {},
   "outputs": [],
   "source": [
    "def hello(name):\n",
    "    print(\"Hello everyone, and \"+ name)"
   ]
  },
  {
   "cell_type": "code",
   "execution_count": 18,
   "metadata": {},
   "outputs": [],
   "source": [
    "def hel(name1):\n",
    "    return hello(name1)"
   ]
  },
  {
   "cell_type": "code",
   "execution_count": 35,
   "metadata": {},
   "outputs": [
    {
     "name": "stdout",
     "output_type": "stream",
     "text": [
      "0.0 1.0 11.313708498984761 46.76537180435968 128.0 "
     ]
    }
   ],
   "source": [
    "def f(x): return x**3\n",
    "def s(x): return x**(1/2)\n",
    "\n",
    "for x in range(5):\n",
    "    print((lambda x: f(x)*s(x))(x), end=\" \")"
   ]
  },
  {
   "cell_type": "code",
   "execution_count": 34,
   "metadata": {},
   "outputs": [
    {
     "name": "stdout",
     "output_type": "stream",
     "text": [
      "False\n"
     ]
    }
   ],
   "source": [
    "def fun(*num):\n",
    "    a= 1\n",
    "    \n",
    "    for number in num:\n",
    "        a+= number\n",
    "        \n",
    "    return (a==sum(num))\n",
    "\n",
    "print(fun(1,10,20,13,37))"
   ]
  },
  {
   "cell_type": "code",
   "execution_count": 38,
   "metadata": {},
   "outputs": [
    {
     "name": "stdout",
     "output_type": "stream",
     "text": [
      "10.0 5.0 Div by zero 2.0 "
     ]
    }
   ],
   "source": [
    "def main(*args, **kwargs):\n",
    "    x=100\n",
    "    \n",
    "    for i in args:\n",
    "        try:\n",
    "            x /= (x/i)\n",
    "            print(x, end=\" \")\n",
    "        except ZeroDivisionError:\n",
    "            print(\"Div by zero\", end=\" \")\n",
    "    \n",
    "main(10,5,0,2)"
   ]
  },
  {
   "cell_type": "code",
   "execution_count": null,
   "metadata": {},
   "outputs": [],
   "source": []
  }
 ],
 "metadata": {
  "kernelspec": {
   "display_name": "Python 3",
   "language": "python",
   "name": "python3"
  },
  "language_info": {
   "codemirror_mode": {
    "name": "ipython",
    "version": 3
   },
   "file_extension": ".py",
   "mimetype": "text/x-python",
   "name": "python",
   "nbconvert_exporter": "python",
   "pygments_lexer": "ipython3",
   "version": "3.8.5"
  }
 },
 "nbformat": 4,
 "nbformat_minor": 4
}
