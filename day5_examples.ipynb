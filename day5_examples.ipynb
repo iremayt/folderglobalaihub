{
 "cells": [
  {
   "cell_type": "code",
   "execution_count": 17,
   "metadata": {},
   "outputs": [],
   "source": [
    "import numpy as np \n",
    "import pandas as pd"
   ]
  },
  {
   "cell_type": "code",
   "execution_count": 18,
   "metadata": {},
   "outputs": [],
   "source": [
    "a = np.array([1,2,3,4,5])"
   ]
  },
  {
   "cell_type": "code",
   "execution_count": 19,
   "metadata": {},
   "outputs": [
    {
     "name": "stdout",
     "output_type": "stream",
     "text": [
      "1\n"
     ]
    }
   ],
   "source": [
    "print(a[0])"
   ]
  },
  {
   "cell_type": "code",
   "execution_count": 20,
   "metadata": {},
   "outputs": [
    {
     "name": "stdout",
     "output_type": "stream",
     "text": [
      "[1 2 3 4 5]\n"
     ]
    }
   ],
   "source": [
    "print(a)"
   ]
  },
  {
   "cell_type": "code",
   "execution_count": 32,
   "metadata": {},
   "outputs": [
    {
     "name": "stdout",
     "output_type": "stream",
     "text": [
      "True\n"
     ]
    }
   ],
   "source": [
    "cTup=(4,3,2,1,0)\n",
    "cLst=[0,1,2,3,4]\n",
    "\n",
    "def main(cTup, cLst):\n",
    "    if cTup.index(2)==cLst[-3]:\n",
    "        return True\n",
    "    else:\n",
    "        return False\n",
    "print(main(cTup,cLst))"
   ]
  },
  {
   "cell_type": "code",
   "execution_count": 23,
   "metadata": {},
   "outputs": [
    {
     "data": {
      "text/plain": [
       "array([1, 2, 3, 4, 5, 6, 7, 8])"
      ]
     },
     "execution_count": 23,
     "metadata": {},
     "output_type": "execute_result"
    }
   ],
   "source": [
    "b=np.array([[1,2,3,4],\n",
    "           [5,6,7,8]])\n",
    "b.ravel()"
   ]
  },
  {
   "cell_type": "code",
   "execution_count": 24,
   "metadata": {},
   "outputs": [
    {
     "name": "stdout",
     "output_type": "stream",
     "text": [
      "219\n"
     ]
    }
   ],
   "source": [
    "a=np.array([9,10])\n",
    "b=np.array([11,12])\n",
    "\n",
    "print(np.dot(a,b))"
   ]
  },
  {
   "cell_type": "code",
   "execution_count": null,
   "metadata": {},
   "outputs": [],
   "source": [
    "d=np.array([[1,2,3],\n",
    "           [4,5,6],\n",
    "           [7,8,9]])\n",
    "\n",
    "print(d.shape)"
   ]
  },
  {
   "cell_type": "code",
   "execution_count": null,
   "metadata": {},
   "outputs": [],
   "source": [
    "rInp=input()\n",
    "\n",
    "def main(rInp):\n",
    "    rStr=\"\"\n",
    "    for i in range(len(rInp)):\n",
    "        rStr+=rInp[1-i]\n",
    "    if rStr==rInp[::-1]:\n",
    "        return rInp[::-1]\n",
    "    else:\n",
    "        return rStr\n",
    "print(main(rInp))"
   ]
  },
  {
   "cell_type": "code",
   "execution_count": null,
   "metadata": {},
   "outputs": [],
   "source": [
    "rI1=input()\n",
    "rI2=input()\n",
    "\n"
   ]
  },
  {
   "cell_type": "code",
   "execution_count": null,
   "metadata": {},
   "outputs": [],
   "source": [
    "try:\n",
    "    print(len(rI1)/len(rI2), end=\" \")\n",
    "except:\n",
    "    print(\"can not\", end=\" \")\n",
    "finally:\n",
    "    print(\"done\")"
   ]
  },
  {
   "cell_type": "code",
   "execution_count": null,
   "metadata": {},
   "outputs": [],
   "source": [
    "print"
   ]
  },
  {
   "cell_type": "code",
   "execution_count": 30,
   "metadata": {},
   "outputs": [
    {
     "name": "stdout",
     "output_type": "stream",
     "text": [
      "[10, 10, 10] [10, 10, 10] [12, 12, 14] "
     ]
    }
   ],
   "source": [
    "X=[[1,8,3],\n",
    "  [6,5,4],\n",
    "  [7,2,9]]\n",
    "\n",
    "Y=[[9,2,7],\n",
    "  [4,5,6],\n",
    "  [5,10,5]]\n",
    "\n",
    "res=[[0,0,0],\n",
    "    [0,0,0],\n",
    "    [0,0,0]]\n",
    "\n",
    "for i in range(len(X)):\n",
    "    for j in range(len(X[0])):\n",
    "        res[i][j]=X[i][j]+Y[i][j]\n",
    "for r in res:\n",
    "    print(r,end=\" \")"
   ]
  },
  {
   "cell_type": "code",
   "execution_count": 31,
   "metadata": {},
   "outputs": [
    {
     "name": "stdout",
     "output_type": "stream",
     "text": [
      "   Name  Occ\n",
      "0  John   Ch\n",
      "1   Doe   th\n",
      "2   Wil   st\n",
      "3   Spa   sc\n",
      "4  Mark  dev\n"
     ]
    }
   ],
   "source": [
    "emp=pd.DataFrame({\n",
    "    'Name':['John','Doe','Wil','Spa', 'Mark'],\n",
    "    'Occ':['Ch', 'th','st', 'sc', 'dev'],\n",
    "    'Age': [23,24,34,29,40]\n",
    "})\n",
    "\n",
    "emp.drop('Age', axis=1, inplace=True)\n",
    "print(emp)"
   ]
  },
  {
   "cell_type": "code",
   "execution_count": null,
   "metadata": {},
   "outputs": [],
   "source": []
  },
  {
   "cell_type": "code",
   "execution_count": null,
   "metadata": {},
   "outputs": [],
   "source": []
  }
 ],
 "metadata": {
  "kernelspec": {
   "display_name": "Python 3",
   "language": "python",
   "name": "python3"
  },
  "language_info": {
   "codemirror_mode": {
    "name": "ipython",
    "version": 3
   },
   "file_extension": ".py",
   "mimetype": "text/x-python",
   "name": "python",
   "nbconvert_exporter": "python",
   "pygments_lexer": "ipython3",
   "version": "3.8.5"
  }
 },
 "nbformat": 4,
 "nbformat_minor": 4
}
