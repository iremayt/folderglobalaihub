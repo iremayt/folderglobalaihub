{
 "cells": [
  {
   "cell_type": "code",
   "execution_count": 10,
   "metadata": {},
   "outputs": [],
   "source": [
    "import pandas as pd\n",
    "import numpy as np"
   ]
  },
  {
   "cell_type": "code",
   "execution_count": 11,
   "metadata": {},
   "outputs": [],
   "source": [
    "studentInfo = pd.DataFrame({\n",
    "    \"studentName\":[\"\",\"\",\"\",\"\",\"\"],\n",
    "    \"midtermGrade\":[\"\",\"\",\"\",\"\",\"\"],\n",
    "    \"projectGrade\":[\"\",\"\",\"\",\"\",\"\"],\n",
    "    \"finalGrade\":[\"\",\"\",\"\",\"\",\"\"],\n",
    "    \"passingGrade\":[\"\",\"\",\"\",\"\",\"\"],\n",
    "\n",
    "})"
   ]
  },
  {
   "cell_type": "code",
   "execution_count": 12,
   "metadata": {},
   "outputs": [],
   "source": [
    "#get grades:\n",
    "#get midterm grade with input and check\n",
    "    #NOTE:I could not check for non-integer grades, so please do not enter non-integer\n",
    "def getMidtermGrade():\n",
    "    studentInfo.midtermGrade[i] = int(input(\"Midterm Grade:   \"))\n",
    "    m = studentInfo.midtermGrade[i]\n",
    "    if m >= 0 and m <= 100:\n",
    "        return m\n",
    "    else:\n",
    "        print(\"0-100 arasi gir!!\")\n",
    "        getMidtermGrade()\n",
    "\n",
    "#get project grade with input and check\n",
    "def getProjectGrade():\n",
    "    studentInfo.projectGrade[i] = int(input(\"Project Grade:   \"))\n",
    "    p = studentInfo.projectGrade[i]\n",
    "    if p >= 0 and p <= 100:\n",
    "        return p\n",
    "    else:\n",
    "        print(\"0-100 arasi gir!!\")\n",
    "        getProjectGrade()\n",
    "\n",
    "#get final grade with input and check\n",
    "def getFinalGrade():\n",
    "    studentInfo.finalGrade[i] = int(input(\"Final Grade:   \"))\n",
    "    f = studentInfo.finalGrade[i]\n",
    "    if f >= 0 and f <= 100:\n",
    "        return f\n",
    "    else:\n",
    "        print(\"0-100 arasi gir!!\")\n",
    "        getFinalGrade()\n",
    "        \n",
    "#calculate passing grade        \n",
    "def calculatePassingGrade(m, p, f):\n",
    "     studentInfo.passingGrade[i] = (m*0.3 + p*0.3 + f*0.4)\n",
    "    "
   ]
  },
  {
   "cell_type": "code",
   "execution_count": 13,
   "metadata": {
    "scrolled": true
   },
   "outputs": [
    {
     "name": "stdout",
     "output_type": "stream",
     "text": [
      "\n",
      " Enter for student1: \n",
      "Name:   ayse\n",
      "Midterm Grade:   10\n",
      "Project Grade:   20\n",
      "Final Grade:   30\n",
      "\n",
      " Enter for student2: \n",
      "Name:   kerem\n",
      "Midterm Grade:   10\n",
      "Project Grade:   40\n",
      "Final Grade:   40\n",
      "\n",
      "\n",
      " NEW STUDENT INFORMATION SHEET ORDERED BY COLUMN PASSING GRADE\n",
      "  studentName midtermGrade projectGrade finalGrade passingGrade\n",
      "1       kerem           10           40         40           31\n",
      "0        ayse           10           20         30           21\n"
     ]
    }
   ],
   "source": [
    "#get students name\n",
    "for i in range(5):\n",
    "    print(f\"\\n Enter for student{i+1}: \")\n",
    "    studentInfo.studentName[i] = str(input(\"Name:   \"))\n",
    "\n",
    "    #get grades\n",
    "    mGrade = getMidtermGrade()\n",
    "    pGrade = getProjectGrade()\n",
    "    fGrade = getFinalGrade()\n",
    "    \n",
    "    #calculate passing grade \n",
    "    calculatePassingGrade(mGrade, pGrade, fGrade)   \n",
    "                                       \n",
    "#sort the sheet according to the passing grade\n",
    "newStudentInfo = studentInfo.sort_values('passingGrade', ascending=False)\n",
    "\n",
    "#print the sorted sheet\n",
    "print(\"\\n\\n NEW STUDENT INFORMATION SHEET ORDERED BY COLUMN PASSING GRADE\")\n",
    "print(newStudentInfo)\n",
    "\n",
    "#save as a new excel sheet\n",
    "newStudentInfo.to_excel(\"newStudentInfo.xlsx\")"
   ]
  },
  {
   "cell_type": "code",
   "execution_count": 14,
   "metadata": {},
   "outputs": [
    {
     "data": {
      "text/html": [
       "<div>\n",
       "<style scoped>\n",
       "    .dataframe tbody tr th:only-of-type {\n",
       "        vertical-align: middle;\n",
       "    }\n",
       "\n",
       "    .dataframe tbody tr th {\n",
       "        vertical-align: top;\n",
       "    }\n",
       "\n",
       "    .dataframe thead th {\n",
       "        text-align: right;\n",
       "    }\n",
       "</style>\n",
       "<table border=\"1\" class=\"dataframe\">\n",
       "  <thead>\n",
       "    <tr style=\"text-align: right;\">\n",
       "      <th></th>\n",
       "      <th>studentName</th>\n",
       "      <th>midtermGrade</th>\n",
       "      <th>projectGrade</th>\n",
       "      <th>finalGrade</th>\n",
       "      <th>passingGrade</th>\n",
       "    </tr>\n",
       "  </thead>\n",
       "  <tbody>\n",
       "    <tr>\n",
       "      <th>1</th>\n",
       "      <td>kerem</td>\n",
       "      <td>10</td>\n",
       "      <td>40</td>\n",
       "      <td>40</td>\n",
       "      <td>31</td>\n",
       "    </tr>\n",
       "    <tr>\n",
       "      <th>0</th>\n",
       "      <td>ayse</td>\n",
       "      <td>10</td>\n",
       "      <td>20</td>\n",
       "      <td>30</td>\n",
       "      <td>21</td>\n",
       "    </tr>\n",
       "  </tbody>\n",
       "</table>\n",
       "</div>"
      ],
      "text/plain": [
       "  studentName midtermGrade projectGrade finalGrade passingGrade\n",
       "1       kerem           10           40         40           31\n",
       "0        ayse           10           20         30           21"
      ]
     },
     "execution_count": 14,
     "metadata": {},
     "output_type": "execute_result"
    }
   ],
   "source": [
    "newStudentInfo"
   ]
  },
  {
   "cell_type": "code",
   "execution_count": null,
   "metadata": {},
   "outputs": [],
   "source": []
  },
  {
   "cell_type": "code",
   "execution_count": null,
   "metadata": {},
   "outputs": [],
   "source": []
  },
  {
   "cell_type": "code",
   "execution_count": null,
   "metadata": {},
   "outputs": [],
   "source": []
  }
 ],
 "metadata": {
  "kernelspec": {
   "display_name": "Python 3",
   "language": "python",
   "name": "python3"
  },
  "language_info": {
   "codemirror_mode": {
    "name": "ipython",
    "version": 3
   },
   "file_extension": ".py",
   "mimetype": "text/x-python",
   "name": "python",
   "nbconvert_exporter": "python",
   "pygments_lexer": "ipython3",
   "version": "3.8.5"
  }
 },
 "nbformat": 4,
 "nbformat_minor": 4
}
