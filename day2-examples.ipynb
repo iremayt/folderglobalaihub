{
 "cells": [
  {
   "cell_type": "code",
   "execution_count": 26,
   "metadata": {},
   "outputs": [
    {
     "name": "stdout",
     "output_type": "stream",
     "text": [
      "GlobalAIHub"
     ]
    }
   ],
   "source": [
    "#question 1\n",
    "for i in list((\"Global\", \"AI\", \"Hub\")):\n",
    "    for j in i:\n",
    "        print(j, end=\"\")"
   ]
  },
  {
   "cell_type": "code",
   "execution_count": 27,
   "metadata": {},
   "outputs": [
    {
     "name": "stdout",
     "output_type": "stream",
     "text": [
      "THIS IS A RANDOM S\n"
     ]
    }
   ],
   "source": [
    "#question 2\n",
    "custom_string=\"\"\n",
    "\n",
    "x=\"E\"\n",
    "y=0\n",
    "\n",
    "while x != \"THIS IS A RANDOM SENTENCE.\"[y]:\n",
    "    custom_string += \"THIS IS A RANDOM SENTENCE.\"[y]\n",
    "    y += 1\n",
    "    \n",
    "print(custom_string)"
   ]
  },
  {
   "cell_type": "code",
   "execution_count": 28,
   "metadata": {},
   "outputs": [
    {
     "name": "stdout",
     "output_type": "stream",
     "text": [
      "['A', ' CUSTOM NAME', ' HER E .', 'A']\n",
      "True\n"
     ]
    }
   ],
   "source": [
    "#question 3\n",
    "custom_name=\"A_ CUSTOM NAME_ HER E ._A\".split(\"_\")\n",
    "print(custom_name) #bu satırı ben ekledim: yeni listeyi görmek için.\n",
    "\n",
    "if (custom_name[0]==custom_name[-1]) and (custom_name[1][-1]==custom_name[2][-3]):\n",
    "    print(\"True\")\n",
    "elif (custom_name[1]==custom_name[-1]) and (custom_name[1][-1]==custom_name[2][-3]):\n",
    "    print(\"Not True\")\n",
    "else:\n",
    "    print(\"False\")"
   ]
  },
  {
   "cell_type": "code",
   "execution_count": 29,
   "metadata": {},
   "outputs": [
    {
     "name": "stdout",
     "output_type": "stream",
     "text": [
      "False\n"
     ]
    }
   ],
   "source": [
    "#question 4\n",
    "not_False=True\n",
    "not_True=False\n",
    "\n",
    "not_False, not_True= not_True, not_False\n",
    "\n",
    "if((not_True==not_False) or (not_False==not_True)):\n",
    "    print(True)\n",
    "elif((not_True==not_False) or not (not_False==not_True)):\n",
    "    print(\"False\")\n",
    "else:\n",
    "    print(\"Not False\")"
   ]
  },
  {
   "cell_type": "code",
   "execution_count": 31,
   "metadata": {},
   "outputs": [
    {
     "name": "stdout",
     "output_type": "stream",
     "text": [
      "5.33\n"
     ]
    }
   ],
   "source": [
    "#question 5\n",
    "for i in range(15%4):\n",
    "    i += 3.33\n",
    "    \n",
    "print(i)"
   ]
  },
  {
   "cell_type": "code",
   "execution_count": 36,
   "metadata": {},
   "outputs": [
    {
     "name": "stdout",
     "output_type": "stream",
     "text": [
      "026122030425672"
     ]
    }
   ],
   "source": [
    "#question 6\n",
    "for i in range(int(6.8+2.3)):\n",
    "    print(i**2+i, end=\"\")"
   ]
  },
  {
   "cell_type": "code",
   "execution_count": 38,
   "metadata": {},
   "outputs": [
    {
     "name": "stdout",
     "output_type": "stream",
     "text": [
      "+1+1+1+1+1+1+1+1"
     ]
    }
   ],
   "source": [
    "#question 7\n",
    "for i in list(range(1, 50, 3)):\n",
    "    if i % 2 == 0:\n",
    "        print(\"+1\", end=\"\")"
   ]
  },
  {
   "cell_type": "code",
   "execution_count": 47,
   "metadata": {},
   "outputs": [
    {
     "name": "stdout",
     "output_type": "stream",
     "text": [
      "50.0 is equal to 50\n"
     ]
    }
   ],
   "source": [
    "#question 8\n",
    "x=50.00\n",
    "\n",
    "if(x == int(x)):\n",
    "    print(f\"{x} is equal to {int(x)}\")\n",
    "else:\n",
    "    print(f\"{int(x)} is equal to {x}\")"
   ]
  },
  {
   "cell_type": "code",
   "execution_count": 51,
   "metadata": {},
   "outputs": [
    {
     "name": "stdout",
     "output_type": "stream",
     "text": [
      "729\n"
     ]
    }
   ],
   "source": [
    "#question 9\n",
    "custom_list = [i ** 3 for i in range(10)]\n",
    "\n",
    "print(max(custom_list)-min(custom_list))"
   ]
  },
  {
   "cell_type": "code",
   "execution_count": 56,
   "metadata": {},
   "outputs": [
    {
     "ename": "TypeError",
     "evalue": "unsupported operand type(s) for +: 'int' and 'str'",
     "output_type": "error",
     "traceback": [
      "\u001b[1;31m---------------------------------------------------------------------------\u001b[0m",
      "\u001b[1;31mTypeError\u001b[0m                                 Traceback (most recent call last)",
      "\u001b[1;32m<ipython-input-56-347129c16076>\u001b[0m in \u001b[0;36m<module>\u001b[1;34m\u001b[0m\n\u001b[0;32m      1\u001b[0m \u001b[1;31m#question 10\u001b[0m\u001b[1;33m\u001b[0m\u001b[1;33m\u001b[0m\u001b[1;33m\u001b[0m\u001b[0m\n\u001b[0;32m      2\u001b[0m \u001b[0mis_integer_list\u001b[0m\u001b[1;33m=\u001b[0m\u001b[1;33m[\u001b[0m\u001b[1;36m1\u001b[0m\u001b[1;33m,\u001b[0m\u001b[1;34m\"2\"\u001b[0m\u001b[1;33m,\u001b[0m\u001b[1;36m3\u001b[0m\u001b[1;33m,\u001b[0m\u001b[1;36m4\u001b[0m\u001b[1;33m,\u001b[0m\u001b[1;36m5\u001b[0m\u001b[1;33m,\u001b[0m\u001b[1;36m6\u001b[0m\u001b[1;33m]\u001b[0m\u001b[1;33m\u001b[0m\u001b[1;33m\u001b[0m\u001b[0m\n\u001b[1;32m----> 3\u001b[1;33m \u001b[0mprint\u001b[0m\u001b[1;33m(\u001b[0m\u001b[0mis_integer_list\u001b[0m\u001b[1;33m[\u001b[0m\u001b[1;36m0\u001b[0m\u001b[1;33m]\u001b[0m\u001b[1;33m+\u001b[0m\u001b[0mis_integer_list\u001b[0m\u001b[1;33m[\u001b[0m\u001b[1;36m5\u001b[0m\u001b[1;33m]\u001b[0m\u001b[1;33m+\u001b[0m\u001b[0mis_integer_list\u001b[0m\u001b[1;33m[\u001b[0m\u001b[1;36m1\u001b[0m\u001b[1;33m]\u001b[0m\u001b[1;33m)\u001b[0m\u001b[1;33m\u001b[0m\u001b[1;33m\u001b[0m\u001b[0m\n\u001b[0m",
      "\u001b[1;31mTypeError\u001b[0m: unsupported operand type(s) for +: 'int' and 'str'"
     ]
    }
   ],
   "source": [
    "#question 10\n",
    "is_integer_list=[1,\"2\",3,4,5,6]\n",
    "print(is_integer_list[0]+is_integer_list[5]+is_integer_list[1])"
   ]
  },
  {
   "cell_type": "code",
   "execution_count": null,
   "metadata": {},
   "outputs": [],
   "source": []
  }
 ],
 "metadata": {
  "kernelspec": {
   "display_name": "Python 3",
   "language": "python",
   "name": "python3"
  },
  "language_info": {
   "codemirror_mode": {
    "name": "ipython",
    "version": 3
   },
   "file_extension": ".py",
   "mimetype": "text/x-python",
   "name": "python",
   "nbconvert_exporter": "python",
   "pygments_lexer": "ipython3",
   "version": "3.8.5"
  }
 },
 "nbformat": 4,
 "nbformat_minor": 4
}
