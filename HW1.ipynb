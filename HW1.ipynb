{
 "cells": [
  {
   "cell_type": "markdown",
   "metadata": {},
   "source": [
    "# Day 2 - HW 1"
   ]
  },
  {
   "cell_type": "code",
   "execution_count": null,
   "metadata": {},
   "outputs": [],
   "source": [
    "#question 1\n",
    "#write a list\n",
    "wholeList = list(range(0, 10))\n",
    "\n",
    "#swap the list\n",
    "firstList = wholeList[:5]\n",
    "secondList = wholeList[5:]\n",
    "\n",
    "#extend the second half of the list\n",
    "secondList.extend(firstList)\n",
    "print(secondList)"
   ]
  },
  {
   "cell_type": "code",
   "execution_count": 1,
   "metadata": {},
   "outputs": [
    {
     "name": "stdout",
     "output_type": "stream",
     "text": [
      "Please enter a single digit number: 5\n",
      "0\n",
      "2\n",
      "4\n"
     ]
    }
   ],
   "source": [
    "#question 2 - Answer 1\n",
    "#get n value from user as an integer\n",
    "n = int(input(\"Please enter a single digit integer number: \"))\n",
    "\n",
    "#check n\n",
    "if n >= 0 and n <= 9:\n",
    "    for number in range(0, n + 1):\n",
    "        if number % 2 == 0:\n",
    "            print(number)\n",
    "else:\n",
    "    print(\"Error: Please enter the number properly!!\")"
   ]
  },
  {
   "cell_type": "code",
   "execution_count": null,
   "metadata": {},
   "outputs": [
    {
     "name": "stdout",
     "output_type": "stream",
     "text": [
      "Please enter a single digit integer number: 5\n",
      "0\n",
      "2\n",
      "4\n",
      "Please enter a single digit integer number: 8\n",
      "0\n",
      "2\n",
      "4\n",
      "6\n",
      "8\n",
      "Please enter a single digit integer number: 7\n",
      "0\n",
      "2\n",
      "4\n",
      "6\n",
      "Please enter a single digit integer number: f\n",
      "Error: It is not a number!!\n"
     ]
    }
   ],
   "source": [
    "#question 2 - Answer 2 - endless loop\n",
    "while True:\n",
    "    try:\n",
    "        #get n value from user as an integer\n",
    "        n = int(input(\"Please enter a single digit integer number: \"))\n",
    "        #check n\n",
    "        if n >= 0 and n <= 9:\n",
    "            for number2 in range(0, n + 1):\n",
    "                if number2 % 2 == 0:\n",
    "                    print(number2)\n",
    "    except:\n",
    "        print(\"Error: Please enter the number properly!!\")\n",
    "        continue\n"
   ]
  },
  {
   "cell_type": "code",
   "execution_count": null,
   "metadata": {},
   "outputs": [],
   "source": []
  },
  {
   "cell_type": "code",
   "execution_count": null,
   "metadata": {},
   "outputs": [],
   "source": []
  }
 ],
 "metadata": {
  "kernelspec": {
   "display_name": "Python 3",
   "language": "python",
   "name": "python3"
  },
  "language_info": {
   "codemirror_mode": {
    "name": "ipython",
    "version": 3
   },
   "file_extension": ".py",
   "mimetype": "text/x-python",
   "name": "python",
   "nbconvert_exporter": "python",
   "pygments_lexer": "ipython3",
   "version": "3.8.5"
  }
 },
 "nbformat": 4,
 "nbformat_minor": 4
}
