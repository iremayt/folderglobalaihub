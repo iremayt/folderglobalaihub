{
 "cells": [
  {
   "cell_type": "code",
   "execution_count": 1,
   "metadata": {},
   "outputs": [
    {
     "name": "stdout",
     "output_type": "stream",
     "text": [
      "{5, 6, 'abc', 8, 'python'}\n"
     ]
    }
   ],
   "source": [
    "s2 = set([\"python\", 5,6,8,5,6,\"abc\", \"python\"])\n",
    "print(s2)"
   ]
  },
  {
   "cell_type": "code",
   "execution_count": 12,
   "metadata": {},
   "outputs": [
    {
     "name": "stdout",
     "output_type": "stream",
     "text": [
      "ömer {'sn': 'cen', 't': 'pyt'} None "
     ]
    }
   ],
   "source": [
    "a={\"n\":\"ömer\",\"sn\":\"cen\",\"t\":\"pyt\"}\n",
    "\n",
    "print(a.pop(\"n\"),end=\" \")\n",
    "print(a,end=\" \")\n",
    "print(a.clear(),end=\" \")"
   ]
  },
  {
   "cell_type": "code",
   "execution_count": 3,
   "metadata": {},
   "outputs": [
    {
     "name": "stdout",
     "output_type": "stream",
     "text": [
      "{0: 0, 1: 1, 2: 1, 3: 1, 4: 2}\n"
     ]
    }
   ],
   "source": [
    "a={zed: int(zed**(1/2)) for zed in range(5)}\n",
    "print(a)"
   ]
  },
  {
   "cell_type": "code",
   "execution_count": 4,
   "metadata": {},
   "outputs": [
    {
     "name": "stdout",
     "output_type": "stream",
     "text": [
      "1\n"
     ]
    }
   ],
   "source": [
    "D={1:1,2:'2','1':2,'2':3,3:1}\n",
    "D['1']=2\n",
    "print(D[D[D[D[\"2\"]]]])"
   ]
  },
  {
   "cell_type": "code",
   "execution_count": null,
   "metadata": {},
   "outputs": [],
   "source": []
  }
 ],
 "metadata": {
  "kernelspec": {
   "display_name": "Python 3",
   "language": "python",
   "name": "python3"
  },
  "language_info": {
   "codemirror_mode": {
    "name": "ipython",
    "version": 3
   },
   "file_extension": ".py",
   "mimetype": "text/x-python",
   "name": "python",
   "nbconvert_exporter": "python",
   "pygments_lexer": "ipython3",
   "version": "3.8.5"
  }
 },
 "nbformat": 4,
 "nbformat_minor": 4
}
